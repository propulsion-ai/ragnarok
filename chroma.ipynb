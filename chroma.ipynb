{
 "cells": [
  {
   "cell_type": "code",
   "execution_count": 1,
   "metadata": {},
   "outputs": [
    {
     "name": "stdout",
     "output_type": "stream",
     "text": [
      "2024-08-11 16:17:11 - \u001b[1mRAGnarok\u001b[0m | \u001b[94mINFO\u001b[0m: Extracting assesable-content.pdf: .pdf ...\n"
     ]
    }
   ],
   "source": [
    "from src.ragnarok.ragnarok import RAGnarok\n",
    "from src.ragnarok.config import RAGnarokConfig, EmbedderConfig, VectorStoreConfig\n",
    "\n",
    "def my_custom_chunker(text: str) -> list[str]:\n",
    "    # Custom chunking logic here\n",
    "    return [text]\n",
    "\n",
    "# chunker=ChunkerConfig(chunker_type=\"fixed_size\", config={\"chunk_size\": 1000, \"overlap\": 100}),\n",
    "\n",
    "# Configure RAGnarok\n",
    "config = RAGnarokConfig(\n",
    "    chunker=my_custom_chunker,  # Optional: Use custom chunker\n",
    "    embedder=EmbedderConfig(\n",
    "        embedder_type=\"openai\",\n",
    "        config = {\"model\": \"text-embedding-3-small\", \"api_key\": \"****\"}\n",
    "    ),\n",
    "    vectorstore=VectorStoreConfig(\n",
    "        store_type=\"chromadb\",\n",
    "        config={\n",
    "        \"credentials\":{\"host\": \"localhost\", \"port\": 8000},\n",
    "        \"collection_name\":\"my_collection\",\n",
    "        \"connection_type\": \"file\"\n",
    "        }\n",
    "    )\n",
    ")\n",
    "\n",
    "rag = RAGnarok(config)\n",
    "rag.process(\"assesable-content.pdf\")"
   ]
  }
 ],
 "metadata": {
  "kernelspec": {
   "display_name": "ragnarokenv",
   "language": "python",
   "name": "python3"
  },
  "language_info": {
   "codemirror_mode": {
    "name": "ipython",
    "version": 3
   },
   "file_extension": ".py",
   "mimetype": "text/x-python",
   "name": "python",
   "nbconvert_exporter": "python",
   "pygments_lexer": "ipython3",
   "version": "3.9.13"
  }
 },
 "nbformat": 4,
 "nbformat_minor": 2
}
